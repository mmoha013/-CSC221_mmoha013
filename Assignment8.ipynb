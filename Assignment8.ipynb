{
  "nbformat": 4,
  "nbformat_minor": 0,
  "metadata": {
    "colab": {
      "provenance": [],
      "authorship_tag": "ABX9TyPpnRMq8KD9xKSxOO/fOmCK",
      "include_colab_link": true
    },
    "kernelspec": {
      "name": "python3",
      "display_name": "Python 3"
    },
    "language_info": {
      "name": "python"
    }
  },
  "cells": [
    {
      "cell_type": "markdown",
      "metadata": {
        "id": "view-in-github",
        "colab_type": "text"
      },
      "source": [
        "<a href=\"https://colab.research.google.com/github/mmoha013/-CSC221_mmoha013/blob/main/Assignment8.ipynb\" target=\"_parent\"><img src=\"https://colab.research.google.com/assets/colab-badge.svg\" alt=\"Open In Colab\"/></a>"
      ]
    },
    {
      "cell_type": "code",
      "execution_count": null,
      "metadata": {
        "id": "ES4nQeHVR72l",
        "colab": {
          "base_uri": "https://localhost:8080/"
        },
        "outputId": "3c367627-fcee-4c53-e9f2-98171c5bc0d4"
      },
      "outputs": [
        {
          "output_type": "stream",
          "name": "stdout",
          "text": [
            "The Raspberry Pi is one of my favorite books.\n"
          ]
        }
      ],
      "source": [
        "# TIY 8-2\n",
        "def favorite_book(title):\n",
        "\n",
        "    \"\"\"Display a message about someone's favorite book.\"\"\"\n",
        "\n",
        "    print(f\"{title} is one of my favorite books.\")\n",
        "\n",
        "\n",
        "favorite_book('The Raspberry Pi')"
      ]
    },
    {
      "cell_type": "code",
      "source": [
        "# TIY 8-3\n",
        "def make_shirt(size, message):\n",
        "\n",
        "    \"\"\"Summarize the shirt that's going to be made.\"\"\"\n",
        "\n",
        "    print(f\"\\nI'm going to make a {size} t-shirt.\")\n",
        "\n",
        "    print(f'It will say, \"{message}\"')\n",
        "\n",
        "\n",
        "make_shirt('large', 'I love coding!')\n",
        "\n",
        "make_shirt(message=\"python not easy.\", size='medium')\n"
      ],
      "metadata": {
        "colab": {
          "base_uri": "https://localhost:8080/"
        },
        "id": "1WyFAXEcfuGg",
        "outputId": "9630a5fc-83c9-437c-954a-8ada2c156f2d"
      },
      "execution_count": null,
      "outputs": [
        {
          "output_type": "stream",
          "name": "stdout",
          "text": [
            "\n",
            "I'm going to make a large t-shirt.\n",
            "It will say, \"I love coding!\"\n",
            "\n",
            "I'm going to make a medium t-shirt.\n",
            "It will say, \"python not easy.\"\n"
          ]
        }
      ]
    },
    {
      "cell_type": "code",
      "source": [
        "# TIY 8-4\n",
        "def make_shirt(size='large', message='I love python!'):\n",
        "\n",
        "    \"\"\"Summarize the shirt that's going to be made.\"\"\"\n",
        "\n",
        "    print(f\"\\nI'm going to make a {size} t-shirt.\")\n",
        "\n",
        "    print(f'It will say, \"{message}\"')\n",
        "\n",
        "\n",
        "make_shirt()\n",
        "\n",
        "make_shirt(size='medium')\n",
        "\n",
        "make_shirt('small', 'Programmers are hard')\n"
      ],
      "metadata": {
        "colab": {
          "base_uri": "https://localhost:8080/"
        },
        "id": "duKHfydmgHLu",
        "outputId": "452a1a8a-ba04-4b8b-fc28-4b663fbd6b45"
      },
      "execution_count": null,
      "outputs": [
        {
          "output_type": "stream",
          "name": "stdout",
          "text": [
            "\n",
            "I'm going to make a large t-shirt.\n",
            "It will say, \"I love coding!\"\n",
            "\n",
            "I'm going to make a medium t-shirt.\n",
            "It will say, \"I love coding!\"\n",
            "\n",
            "I'm going to make a small t-shirt.\n",
            "It will say, \"Programmers are hard\"\n"
          ]
        }
      ]
    },
    {
      "cell_type": "code",
      "source": [
        "#write a function with the list inside\n",
        "# i know the value c = 42\n",
        "#return the number sum and number product\n",
        "# make sure to sort the list\n",
        "# to retunr the sum, product and sorted list\n",
        "# also want to do multiple test"
      ],
      "metadata": {
        "id": "_iMbgTci1DG5"
      },
      "execution_count": null,
      "outputs": []
    },
    {
      "cell_type": "code",
      "source": [
        "def func8(a, b, c=42):\n",
        "    number_sum = a + b + c\n",
        "\n",
        "    number_product = a * b * c\n",
        "\n",
        "    sortedlist = sorted([a, b, c])\n",
        "    return number_sum, number_product, sortedlist\n",
        "\n",
        "\n",
        "\n",
        "\n",
        "\n",
        "\n"
      ],
      "metadata": {
        "id": "XB9IiOqW4fwE"
      },
      "execution_count": 14,
      "outputs": []
    },
    {
      "cell_type": "code",
      "source": [
        "#Test 1\n",
        "sum_result, product_result, sortedlist = func8(3, 6, 7)\n",
        "print(\"sum\", sum_result)\n",
        "print(\"product\", product_result)\n",
        "print(\"sorted list\", sortedlist)"
      ],
      "metadata": {
        "colab": {
          "base_uri": "https://localhost:8080/"
        },
        "id": "naz4syGj8MeY",
        "outputId": "46f59686-49f4-479a-855f-16a419a86b16"
      },
      "execution_count": 15,
      "outputs": [
        {
          "output_type": "stream",
          "name": "stdout",
          "text": [
            "sum 16\n",
            "product 126\n",
            "sorted list [3, 6, 7]\n"
          ]
        }
      ]
    },
    {
      "cell_type": "code",
      "source": [
        "#Test 2\n",
        "sum_result, product_result, sortedlist = func8(3, 6, )\n",
        "print(\"sum\", sum_result)\n",
        "print(\"product\", product_result)\n",
        "print(\"sorted list\", sortedlist)"
      ],
      "metadata": {
        "colab": {
          "base_uri": "https://localhost:8080/"
        },
        "id": "JxBzBeq0_J-2",
        "outputId": "6e96bcb5-1e2a-420e-9976-13364676253d"
      },
      "execution_count": 16,
      "outputs": [
        {
          "output_type": "stream",
          "name": "stdout",
          "text": [
            "sum 51\n",
            "product 756\n",
            "sorted list [3, 6, 42]\n"
          ]
        }
      ]
    },
    {
      "cell_type": "code",
      "source": [
        "#Test 2\n",
        "sum_result, product_result, sortedlist = func8(3, 6, 9)\n",
        "print(\"sum\", sum_result)\n",
        "print(\"product\", product_result)\n",
        "print(\"sorted list\", sortedlist)"
      ],
      "metadata": {
        "colab": {
          "base_uri": "https://localhost:8080/"
        },
        "id": "75GHmsp3_OrH",
        "outputId": "7c7c72f6-26ca-47e8-da0b-f4f7a13b540e"
      },
      "execution_count": 17,
      "outputs": [
        {
          "output_type": "stream",
          "name": "stdout",
          "text": [
            "sum 18\n",
            "product 162\n",
            "sorted list [3, 6, 9]\n"
          ]
        }
      ]
    },
    {
      "cell_type": "code",
      "source": [],
      "metadata": {
        "id": "-fYLvuhD_Td2"
      },
      "execution_count": null,
      "outputs": []
    }
  ]
}