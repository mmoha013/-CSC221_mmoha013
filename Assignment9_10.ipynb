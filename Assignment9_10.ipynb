{
  "nbformat": 4,
  "nbformat_minor": 0,
  "metadata": {
    "colab": {
      "provenance": [],
      "authorship_tag": "ABX9TyO40muHegFyPrtHa2j67qAq",
      "include_colab_link": true
    },
    "kernelspec": {
      "name": "python3",
      "display_name": "Python 3"
    },
    "language_info": {
      "name": "python"
    }
  },
  "cells": [
    {
      "cell_type": "markdown",
      "metadata": {
        "id": "view-in-github",
        "colab_type": "text"
      },
      "source": [
        "<a href=\"https://colab.research.google.com/github/mmoha013/-CSC221_mmoha013/blob/main/Assignment9_10.ipynb\" target=\"_parent\"><img src=\"https://colab.research.google.com/assets/colab-badge.svg\" alt=\"Open In Colab\"/></a>"
      ]
    },
    {
      "cell_type": "code",
      "source": [
        "#The function categorizes individuals into education classes based on their gender and age, providing specific labels for boys, girls, men, and women.\n",
        "def gender_education_class(gender, age):\n",
        "    \"\"\"Display a message based on gender and age\"\"\"\n",
        "    if gender == \"male\":\n",
        "        if age < 18:\n",
        "            return \"Boys' education class\"\n",
        "        else:\n",
        "            return \"Men's education class\"\n",
        "    elif gender == \"female\":\n",
        "        if age < 18:\n",
        "            return \"Girls' education class\"\n",
        "        else:\n",
        "            return \"Women's education class\"\n",
        "    else:\n",
        "        return \"Gender not specified\"\n",
        "\n",
        "print(gender_education_class(input('what’s  your gender'), 25))\n",
        "print(gender_education_class(input(), 15))\n",
        "print(gender_education_class(input(), 30))"
      ],
      "metadata": {
        "id": "HAZ9gB6GmTDK"
      },
      "execution_count": null,
      "outputs": []
    },
    {
      "cell_type": "code",
      "source": [
        "#The favorite_class function prints a message stating the name of the favorite class provided as an argument.\n",
        "def favorite_class(name):\n",
        "    print(f\"My favorite class is {name}\")\n",
        "\n",
        "favorite_class(input('what’s your favorite class'))\n",
        "favorite_class(\"world music\")"
      ],
      "metadata": {
        "id": "d3yu32vu92sI"
      },
      "execution_count": null,
      "outputs": []
    },
    {
      "cell_type": "code",
      "source": [
        "#The greet function generates a personalized greeting message using the provided name, defaulting to \"user\" if no name is given.\n",
        "def greet(name=\"user\"):\n",
        "        return f\"Hello, {name}!\"\n",
        "\n",
        "message = greet(\"dilling\")\n",
        "print(message)\n",
        "\n",
        "default_message = greet()\n",
        "print(default_message)\n",
        "\n"
      ],
      "metadata": {
        "colab": {
          "base_uri": "https://localhost:8080/"
        },
        "id": "-6BBr_M6U3Dv",
        "outputId": "23ead931-8f91-4ea2-c95a-168be6020e35"
      },
      "execution_count": null,
      "outputs": [
        {
          "output_type": "stream",
          "name": "stdout",
          "text": [
            "Hello, dilling!\n",
            "Hello, user!\n"
          ]
        }
      ]
    },
    {
      "cell_type": "code",
      "source": [
        "# function returns a tuple containing the values 1, 2, and 3, which are then unpacked into variables a, b, and c respectively, and printed.\n",
        "\n",
        "def return_multiple():\n",
        "  return 1, 2, 3\n",
        "a, b, c = return_multiple()\n",
        "print (a)\n",
        "print (b)\n",
        "print (c)"
      ],
      "metadata": {
        "colab": {
          "base_uri": "https://localhost:8080/"
        },
        "id": "xz8DlXO0Zt0W",
        "outputId": "df806bf2-1dac-496a-c88f-942243fc4f82"
      },
      "execution_count": null,
      "outputs": [
        {
          "output_type": "stream",
          "name": "stdout",
          "text": [
            "1\n",
            "2\n",
            "3\n"
          ]
        }
      ]
    },
    {
      "cell_type": "code",
      "source": [
        "# The function takes a list of numbers representing heights, sorts them in ascending order, prints the sorted list, and returns the sorted list.\n",
        "def sort_height(numbers):\n",
        "    sorted_height = sorted(numbers)\n",
        "    print(\"Sorted height:\", sorted_height)\n",
        "    return sorted_height\n",
        "\n",
        "different_height = [510, 61, 65, 55, 57, 411]\n",
        "sorted_numbers = sort_height(different_height)\n",
        "\n"
      ],
      "metadata": {
        "id": "XB9IiOqW4fwE",
        "colab": {
          "base_uri": "https://localhost:8080/"
        },
        "outputId": "843f36cc-8e49-4a42-809f-ecda738dcfe5"
      },
      "execution_count": null,
      "outputs": [
        {
          "output_type": "stream",
          "name": "stdout",
          "text": [
            "Sorted height: [55, 57, 61, 65, 411, 510]\n"
          ]
        }
      ]
    },
    {
      "cell_type": "code",
      "source": [
        "#This code generates a random number between 1 and 10 and then asks the user to guess the number,\n",
        "# providing feedback on whether the guess is too low or too high until the correct number is guessed.\n",
        "\n",
        "import random\n",
        "def guess_game():\n",
        "  number = random.randint(1, 10)\n",
        "\n",
        "  guess = None\n",
        "\n",
        "  while guess != number:\n",
        "\n",
        "      guess = int(input(\"Pick a number between 1 and 10: \"))\n",
        "\n",
        "      if guess == number:\n",
        "          print(\"Correct! The number was\", number)\n",
        "      elif guess < number:\n",
        "          print(\"Too low! Try again.\")\n",
        "      else:\n",
        "          print(\"Too high! Try again.\")\n",
        "\n",
        "guess_game()\n"
      ],
      "metadata": {
        "id": "a9Wj9zb3hvWi"
      },
      "execution_count": null,
      "outputs": []
    },
    {
      "cell_type": "code",
      "source": [
        "#representing a person's information (first name, last name, age, and city) and then prints each piece of information individually.\n",
        "def person_ben(first_name,last_name,age,city):\n",
        "  person = {\n",
        "\n",
        "      'first_name': first_name,\n",
        "\n",
        "      'last_name': last_name,\n",
        "\n",
        "      'age':age,\n",
        "\n",
        "      'city': city,\n",
        "\n",
        "      }\n",
        "\n",
        "\n",
        "  print(person['first_name'])\n",
        "\n",
        "  print(person['last_name'])\n",
        "\n",
        "  print(person['age'])\n",
        "\n",
        "  print(person['city'])\n",
        "person_ben('sarai','william',21,'new york')"
      ],
      "metadata": {
        "id": "_U5NjAIUiCev",
        "colab": {
          "base_uri": "https://localhost:8080/"
        },
        "outputId": "3abe0fc4-cbda-426a-f81a-bbf24093d135"
      },
      "execution_count": null,
      "outputs": [
        {
          "output_type": "stream",
          "name": "stdout",
          "text": [
            "sarai\n",
            "williams\n",
            "21\n",
            "new york\n"
          ]
        }
      ]
    },
    {
      "cell_type": "code",
      "source": [
        "#TIY 8\n",
        "#solves the discriminate of a quadratic equation(ax^2+bx+c)\n",
        "def calculate_discriminant(a, b, c):\n",
        "    discriminant = b**2 - 4*a*c\n",
        "    return discriminant\n",
        "\n",
        "a = 6\n",
        "b = -5\n",
        "c = 8\n",
        "discriminant = calculate_discriminant(a, b, c)\n",
        "print(f\"The discriminant is: {discriminant}\")\n"
      ],
      "metadata": {
        "colab": {
          "base_uri": "https://localhost:8080/"
        },
        "id": "a7umByJqfJ6O",
        "outputId": "859a1189-8aff-4052-c3d2-e247f2c66a35"
      },
      "execution_count": null,
      "outputs": [
        {
          "output_type": "stream",
          "name": "stdout",
          "text": [
            "The discriminant is: -167\n"
          ]
        }
      ]
    },
    {
      "cell_type": "code",
      "source": [
        "# checks if a house is green or red and prints a different message depending on the color:\n",
        "def house_color():\n",
        "  house_color = 'green'\n",
        "  if house_color == 'green':\n",
        "      print(\"the house is yours\")\n",
        "  if house_color == 'red':\n",
        "    print(\"the house too expeensive for you\")\n",
        "house_color()"
      ],
      "metadata": {
        "id": "qfZt-ze1gx0g"
      },
      "execution_count": null,
      "outputs": []
    },
    {
      "cell_type": "code",
      "source": [
        "#it creates a list of your favorite foods and then prints out each food in your friend's list.\n",
        "def my_food():\n",
        "  my_foods = ['pizza', 'chipotle', 'buffalo wings']\n",
        "\n",
        "  friend_foods = my_foods[:]\n",
        "\n",
        "\n",
        "  friend_foods.append('ice cream')\n",
        "\n",
        "  print(\"\\nMy friend's favorite foods are:\")\n",
        "\n",
        "  for food in friend_foods:\n",
        "\n",
        "      print(f\"- {food}\")\n",
        "my_food()"
      ],
      "metadata": {
        "colab": {
          "base_uri": "https://localhost:8080/"
        },
        "id": "jQ55ZiJdAiHo",
        "outputId": "5b640155-f832-48ae-afd0-d99aae50c37f"
      },
      "execution_count": null,
      "outputs": [
        {
          "output_type": "stream",
          "name": "stdout",
          "text": [
            "\n",
            "My friend's favorite foods are:\n",
            "- pizza\n",
            "- chipotle\n",
            "- buffalo wings\n",
            "- ice cream\n"
          ]
        }
      ]
    },
    {
      "cell_type": "code",
      "source": [
        "#the function asks for a number from the user, checks if it's a multiple of 10, and prints a message\n",
        "def number_multiple(number):\n",
        "\n",
        "  if number % 10 == 0:\n",
        "\n",
        "      print(f\"{number} is a multiple of 20.\")\n",
        "\n",
        "  else:\n",
        "\n",
        "      print(f\"{number} is not a multiple of 10.\")\n",
        "number_multiple(int(input(\"Give me a number, please: \")))"
      ],
      "metadata": {
        "colab": {
          "base_uri": "https://localhost:8080/"
        },
        "id": "_9YuISXvBnHA",
        "outputId": "bc91a5ca-6f6d-48b7-e717-82704344a858"
      },
      "execution_count": null,
      "outputs": [
        {
          "output_type": "stream",
          "name": "stdout",
          "text": [
            "Give me a number, please: 20\n",
            "20 is a multiple of 20.\n"
          ]
        }
      ]
    },
    {
      "cell_type": "code",
      "source": [
        "# Tricky math function\n",
        "def math_question():\n",
        "  print(1**1)\n",
        "math_question()"
      ],
      "metadata": {
        "id": "qA9yTT67dwQa"
      },
      "execution_count": null,
      "outputs": []
    }
  ]
}