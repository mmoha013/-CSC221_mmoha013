{
  "nbformat": 4,
  "nbformat_minor": 0,
  "metadata": {
    "colab": {
      "provenance": [],
      "authorship_tag": "ABX9TyMDaswFRpTnGuulmjjBDDOx",
      "include_colab_link": true
    },
    "kernelspec": {
      "name": "python3",
      "display_name": "Python 3"
    },
    "language_info": {
      "name": "python"
    }
  },
  "cells": [
    {
      "cell_type": "markdown",
      "metadata": {
        "id": "view-in-github",
        "colab_type": "text"
      },
      "source": [
        "<a href=\"https://colab.research.google.com/github/mmoha013/-CSC221_mmoha013/blob/main/Assignment_11.ipynb\" target=\"_parent\"><img src=\"https://colab.research.google.com/assets/colab-badge.svg\" alt=\"Open In Colab\"/></a>"
      ]
    },
    {
      "cell_type": "code",
      "source": [
        "#Example Code Dog\n",
        "\n",
        "class Dog():\n",
        "  def __init__(self, name, age):\n",
        "    self.name = name\n",
        "    self.age = age\n",
        "\n",
        "  def sit(self):\n",
        "   print(self.name.title() + \" is now sitting.\")\n",
        "\n",
        "def roll_over(self):\n",
        "  print(self.name.title() + \" rolled over!\")\n",
        "\n",
        "my_dog = Dog('willie', 6)\n",
        "print(\"My dog's name is \" + my_dog.name.title() + \".\")\n",
        "print(\"My dog is \" + str(my_dog.age) + \" years old.\")\n",
        "\n",
        "my_dog = Dog('willie', 6)\n",
        "your_dog = Dog('lucy', 3)\n",
        "\n",
        "\n",
        "print(\"My dog's name is \" + my_dog.name.title() + \".\")\n",
        "print(\"My dog is \" + str(my_dog.age) + \" years old.\")\n",
        "my_dog.sit()\n",
        "\n",
        "print(\"\\nYour dog's name is \" + your_dog.name.title() + \".\")\n",
        "print(\"Your dog is \" + str(your_dog.age) + \" years old.\")\n",
        "your_dog.sit()\n"
      ],
      "metadata": {
        "colab": {
          "base_uri": "https://localhost:8080/"
        },
        "id": "a-6C2wZ9AwYF",
        "outputId": "8c06deff-fa13-4494-be93-814ff0944c0a"
      },
      "execution_count": 8,
      "outputs": [
        {
          "output_type": "stream",
          "name": "stdout",
          "text": [
            "My dog's name is Willie.\n",
            "My dog is 6 years old.\n",
            "My dog's name is Willie.\n",
            "My dog is 6 years old.\n",
            "Willie is now sitting.\n",
            "\n",
            "Your dog's name is Lucy.\n",
            "Your dog is 3 years old.\n",
            "Lucy is now sitting.\n"
          ]
        }
      ]
    },
    {
      "cell_type": "code",
      "source": [
        "#Example Code Car\n",
        "\n",
        "class Car():\n",
        "    def __init__(self, make, model, year):\n",
        "        self.make = make\n",
        "        self.model = model\n",
        "        self.year = year\n",
        "        self.odometer_reading = 0\n",
        "\n",
        "    def get_descriptive_name(self):\n",
        "        long_name = str(self.year) + ' ' + self.make + ' ' + self.model\n",
        "        return long_name.title()\n",
        "\n",
        "    def read_odometer(self):\n",
        "        print(\"This car has \" + str(self.odometer_reading) + \" miles on it.\")\n",
        "\n",
        "    def update_odometer(self, mileage):\n",
        "        if mileage >= self.odometer_reading:\n",
        "            self.odometer_reading = mileage\n",
        "        else:\n",
        "            print(\"You can't roll back an odometer!\")\n",
        "\n",
        "    def increment_odometer(self, miles):\n",
        "        self.odometer_reading += miles\n",
        "\n",
        "my_used_car = Car('subaru', 'outback', 2013)\n",
        "print(my_used_car.get_descriptive_name())\n",
        "\n",
        "my_used_car.update_odometer(23500)\n",
        "my_used_car.read_odometer()\n",
        "\n",
        "my_used_car.increment_odometer(100)\n",
        "my_used_car.read_odometer()\n",
        "\n",
        "\n",
        "my_new_car = Car('audi', 'a4', 2016)\n",
        "print(my_new_car.get_descriptive_name())\n",
        "my_new_car.update_odometer(23)\n",
        "my_new_car.read_odometer()\n",
        "\n",
        "\n",
        "\n"
      ],
      "metadata": {
        "colab": {
          "base_uri": "https://localhost:8080/"
        },
        "id": "uazMO4sfhnTa",
        "outputId": "9fdc5a72-00ec-4c15-e78f-8b92ab47aecc"
      },
      "execution_count": 18,
      "outputs": [
        {
          "output_type": "stream",
          "name": "stdout",
          "text": [
            "2013 Subaru Outback\n",
            "This car has 23500 miles on it.\n",
            "This car has 23600 miles on it.\n",
            "2016 Audi A4\n",
            "This car has 23 miles on it.\n"
          ]
        }
      ]
    },
    {
      "cell_type": "code",
      "execution_count": null,
      "metadata": {
        "id": "kE1o5APWZZIq",
        "colab": {
          "base_uri": "https://localhost:8080/"
        },
        "outputId": "c018d3c7-7c0e-4e38-8829-6c59fc8b3ab1"
      },
      "outputs": [
        {
          "output_type": "stream",
          "name": "stdout",
          "text": [
            "Dacks Cuisine\n",
            "waffle\n",
            "\n",
            "Dacks Cuisine got some good  waffle.\n",
            "\n",
            "Dacks Cuisine is open. Come on in!\n"
          ]
        }
      ],
      "source": [
        "#TIY-9-1\n",
        "class Restaurant():\n",
        "\n",
        "    def __init__(self, name, cuisine_type):\n",
        "\n",
        "        self.name = name.title()\n",
        "\n",
        "        self.cuisine_type = cuisine_type\n",
        "\n",
        "    def describe_restaurant(self):\n",
        "\n",
        "        msg = f\"{self.name} got some good  {self.cuisine_type}.\"\n",
        "\n",
        "        print(f\"\\n{msg}\")\n",
        "\n",
        "\n",
        "    def open_restaurant(self):\n",
        "\n",
        "        msg = f\"{self.name} is open. Come on in!\"\n",
        "\n",
        "        print(f\"\\n{msg}\")\n",
        "\n",
        "restaurant = Restaurant('dacks cuisine', 'waffle')\n",
        "\n",
        "print(restaurant.name)\n",
        "\n",
        "print(restaurant.cuisine_type)\n",
        "\n",
        "\n",
        "restaurant.describe_restaurant()\n",
        "\n",
        "restaurant.open_restaurant()"
      ]
    },
    {
      "cell_type": "code",
      "source": [
        "class Restaurant:\n",
        "\n",
        "    def __init__(self, name, cuisine_type):\n",
        "\n",
        "        self.name = name.title()\n",
        "\n",
        "        self.cuisine_type = cuisine_type\n",
        "\n",
        "    def describe_restaurant(self):\n",
        "\n",
        "        msg = f\"{self.name} offers fantastic {self.cuisine_type}.\"\n",
        "\n",
        "        print(f\"\\n{msg}\")\n",
        "\n",
        "    def open_restaurant(self):\n",
        "\n",
        "        msg = f\"{self.name} is open. Come on in!\"\n",
        "\n",
        "        print(f\"\\n{msg}\")\n",
        "\n",
        "\n",
        "cecil_steakhouse = Restaurant('the cecil steakhouse', 'steak')\n",
        "\n",
        "cecil_steakhouse.describe_restaurant()\n",
        "\n",
        "\n",
        "papaye = Restaurant(\"papaye\", 'jollof rice')\n",
        "\n",
        "papaye.describe_restaurant()\n",
        "\n",
        "\n",
        "jenavie_cafe = Restaurant('jenavie cafe', 'macaroni cheese')\n",
        "\n",
        "jenavie_cafe.describe_restaurant()"
      ],
      "metadata": {
        "colab": {
          "base_uri": "https://localhost:8080/"
        },
        "id": "KXtCNDsNu0XA",
        "outputId": "c111d13d-3371-439a-d461-c9ef322a85b2"
      },
      "execution_count": 3,
      "outputs": [
        {
          "output_type": "stream",
          "name": "stdout",
          "text": [
            "\n",
            "The Cecil Steakhouse offers fantastic steak.\n",
            "\n",
            "Papaye offers fantastic jollof rice.\n",
            "\n",
            "Jenavie Cafe offers fantastic macaroni cheese.\n"
          ]
        }
      ]
    },
    {
      "cell_type": "code",
      "source": [
        "class User:\n",
        "    def __init__(self, first_name, last_name, username, email, location):\n",
        "        self.first_name = first_name.title()\n",
        "        self.last_name = last_name.title()\n",
        "        self.username = username\n",
        "        self.email = email\n",
        "        self.location = location.title()\n",
        "\n",
        "    def describe_user(self):\n",
        "        print(f\"\\n{self.first_name} {self.last_name}\")\n",
        "        print(f\"  Username: {self.username}\")\n",
        "        print(f\"  Email: {self.email}\")\n",
        "        print(f\"  Location: {self.location}\")\n",
        "\n",
        "    def greet_user(self):\n",
        "        print(f\"\\nWelcome back, {self.username}!\")\n",
        "\n",
        "Mutawkilu = User('Mutawkilu', 'mohammed', 'mmoha_013', 'mmoha013@icloud.com', 'new york')\n",
        "Mutawkilu.describe_user()\n",
        "Mutawkilu.greet_user()\n",
        "\n",
        "dares = User('dares', 'kareem', 'kareem014', 'dares014@icloud.com', 'new york')\n",
        "dares.describe_user()\n",
        "dares.greet_user()\n"
      ],
      "metadata": {
        "colab": {
          "base_uri": "https://localhost:8080/"
        },
        "id": "L2V-BkbbUzqi",
        "outputId": "1fb8e714-5606-4202-8252-256637597cf9"
      },
      "execution_count": 12,
      "outputs": [
        {
          "output_type": "stream",
          "name": "stdout",
          "text": [
            "\n",
            "Mutawkilu Mohammed\n",
            "  Username: mmoha_013\n",
            "  Email: mmoha013@icloud.com\n",
            "  Location: New York\n",
            "\n",
            "Welcome back, mmoha_013!\n",
            "\n",
            "Dares Kareem\n",
            "  Username: kareem014\n",
            "  Email: dares014@icloud.com\n",
            "  Location: New York\n",
            "\n",
            "Welcome back, kareem014!\n"
          ]
        }
      ]
    },
    {
      "cell_type": "code",
      "source": [
        "class Restaurant:\n",
        "\n",
        "    def __init__(self, name, cuisine_type):\n",
        "\n",
        "        self.name = name.title()\n",
        "\n",
        "        self.cuisine_type = cuisine_type\n",
        "\n",
        "        self.number_served = 0\n",
        "\n",
        "\n",
        "    def describe_restaurant(self):\n",
        "\n",
        "        msg = f\"{self.name} offers fantastic {self.cuisine_type}.\"\n",
        "\n",
        "        print(f\"\\n{msg}\")\n",
        "\n",
        "\n",
        "    def open_restaurant(self):\n",
        "\n",
        "        msg = f\"{self.name} is open. Come on in!\"\n",
        "\n",
        "        print(f\"\\n{msg}\")\n",
        "\n",
        "\n",
        "    def set_number_served(self, number_served):\n",
        "\n",
        "        self.number_served = number_served\n",
        "\n",
        "\n",
        "    def increment_number_served(self, additional_served):\n",
        "\n",
        "        self.number_served += additional_served\n",
        "\n",
        "\n",
        "\n",
        "class IceCreamStand:\n",
        "\n",
        "    def __init__(self, name):\n",
        "        self.name = name\n",
        "        self.flavors = []\n",
        "\n",
        "    def describe_restaurant(self):\n",
        "        print(f\"Welcome to {self.name}!\")\n",
        "\n",
        "    def show_flavors(self):\n",
        "        print(\"Our flavors are:\")\n",
        "        for flavor in self.flavors:\n",
        "            print(flavor)\n",
        "\n",
        "ben_shop = IceCreamStand('The Ben shop')\n",
        "ben_shop.flavors = ['vanilla', 'chocolate', 'black cherry']\n",
        "\n",
        "ben_shop.describe_restaurant()\n",
        "ben_shop.show_flavors()\n"
      ],
      "metadata": {
        "colab": {
          "base_uri": "https://localhost:8080/"
        },
        "id": "r8Ch19F5h5Mk",
        "outputId": "0cabf14c-217b-4609-d40c-1f2afad9d333"
      },
      "execution_count": 21,
      "outputs": [
        {
          "output_type": "stream",
          "name": "stdout",
          "text": [
            "Welcome to The Ben shop!\n",
            "Our flavors are:\n",
            "vanilla\n",
            "chocolate\n",
            "black cherry\n"
          ]
        }
      ]
    },
    {
      "cell_type": "code",
      "source": [
        "class User:\n",
        "    def __init__(self, first_name, last_name, username, email, location):\n",
        "        self.first_name = first_name.title()\n",
        "        self.last_name = last_name.title()\n",
        "        self.username = username\n",
        "        self.email = email\n",
        "        self.location = location.title()\n",
        "        self.login_attempts = 0\n",
        "\n",
        "    def describe_user(self):\n",
        "        print(f\"\\n{self.first_name} {self.last_name}\")\n",
        "        print(f\"  Username: {self.username}\")\n",
        "        print(f\"  Email: {self.email}\")\n",
        "        print(f\"  Location: {self.location}\")\n",
        "\n",
        "    def greet_user(self):\n",
        "        print(f\"\\nWelcome back, {self.username}!\")\n",
        "\n",
        "    def increment_login_attempts(self):\n",
        "        self.login_attempts += 1\n",
        "\n",
        "    def reset_login_attempts(self):\n",
        "        self.login_attempts = 0\n",
        "\n",
        "class Admin(User):\n",
        "    def __init__(self, first_name, last_name, username, email, location):\n",
        "        super().__init__(first_name, last_name, username, email, location)\n",
        "        self.privileges = []\n",
        "\n",
        "    def show_privileges(self):\n",
        "        print(\"\\nPrivileges:\")\n",
        "        for privilege in self.privileges:\n",
        "            print(f\"- {privilege}\")\n",
        "\n",
        "dilling = Admin('dilling', 'ponder', 'ponder_12', 'ponder_12@icloud.com', 'new york')\n",
        "\n",
        "dilling.describe_user()\n",
        "\n",
        "dilling.privileges = [\n",
        "    'can reset passwords',\n",
        "    'can moderate discussions',\n",
        "    'can suspend accounts',\n",
        "]\n",
        "\n",
        "dilling.show_privileges()"
      ],
      "metadata": {
        "colab": {
          "base_uri": "https://localhost:8080/"
        },
        "id": "Of6QG77MiVlP",
        "outputId": "1a7cfc41-46df-4b7b-8014-1e6c444fb95f"
      },
      "execution_count": 23,
      "outputs": [
        {
          "output_type": "stream",
          "name": "stdout",
          "text": [
            "\n",
            "Dilling Ponder\n",
            "  Username: ponder_12\n",
            "  Email: ponder_12@icloud.com\n",
            "  Location: New York\n",
            "\n",
            "Privileges:\n",
            "- can reset passwords\n",
            "- can moderate discussions\n",
            "- can suspend accounts\n"
          ]
        }
      ]
    }
  ]
}