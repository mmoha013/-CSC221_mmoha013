{
  "nbformat": 4,
  "nbformat_minor": 0,
  "metadata": {
    "colab": {
      "provenance": [],
      "authorship_tag": "ABX9TyMdT+LPrSwmDjm9MXt1p8Ui",
      "include_colab_link": true
    },
    "kernelspec": {
      "name": "python3",
      "display_name": "Python 3"
    },
    "language_info": {
      "name": "python"
    }
  },
  "cells": [
    {
      "cell_type": "markdown",
      "metadata": {
        "id": "view-in-github",
        "colab_type": "text"
      },
      "source": [
        "<a href=\"https://colab.research.google.com/github/mmoha013/-CSC221_mmoha013/blob/main/Assignment6.ipynb\" target=\"_parent\"><img src=\"https://colab.research.google.com/assets/colab-badge.svg\" alt=\"Open In Colab\"/></a>"
      ]
    },
    {
      "cell_type": "code",
      "execution_count": null,
      "metadata": {
        "id": "LDABktuiWsQW",
        "colab": {
          "base_uri": "https://localhost:8080/"
        },
        "outputId": "5f9b735f-0ca3-4f1c-fd4f-8c7a1e2919b0"
      },
      "outputs": [
        {
          "output_type": "stream",
          "name": "stdout",
          "text": [
            "Is car == 'tesla'? I predict true.\n",
            "True\n",
            "\n",
            "Is car == 'ford'? I predict False\n",
            "False\n",
            "\n",
            "\n",
            "Is animal == 'monkey'? I predict true.\n",
            "True\n",
            "\n",
            "Is animal == 'tiger'? I predict false\n",
            "False\n",
            "\n",
            "\n",
            "Is name == 'Ben'? I predict true.\n",
            "True\n",
            "\n",
            "Is name == 'swervo'? I predict false\n",
            "False\n",
            "\n",
            "\n",
            "Is food == 'chipotle'? I predict true.\n",
            "True\n",
            "\n",
            "Is food == 'burger'? I predict false\n",
            "False\n",
            "\n",
            "\n",
            "Is country == 'Ghana'? I predict true.\n",
            "True\n",
            "\n",
            "Is country == 'gambia'? I predict false\n",
            "False\n",
            "\n",
            "\n"
          ]
        }
      ],
      "source": [
        "# TIY 5-1\n",
        "car = 'tesla'\n",
        "print(\"Is car == 'tesla'? I predict true.\")\n",
        "print(car == 'tesla')\n",
        "\n",
        "print(\"\\nIs car == 'ford'? I predict False\")\n",
        "print(car == 'ford')\n",
        "print('\\n')\n",
        "animal = 'monkey'\n",
        "print(\"Is animal == 'monkey'? I predict true.\")\n",
        "print(animal == 'monkey')\n",
        "\n",
        "print(\"\\nIs animal == 'tiger'? I predict false\")\n",
        "print(animal == 'tiger')\n",
        "print('\\n')\n",
        "\n",
        "name = 'Ben'\n",
        "print(\"Is name == 'Ben'? I predict true.\")\n",
        "print(name == 'Ben')\n",
        "\n",
        "print(\"\\nIs name == 'swervo'? I predict false\")\n",
        "print(name == 'swervo ')\n",
        "print('\\n')\n",
        "\n",
        "food = 'chipotle'\n",
        "print(\"Is food == 'chipotle'? I predict true.\")\n",
        "print(food == 'chipotle')\n",
        "\n",
        "print(\"\\nIs food == 'burger'? I predict false\")\n",
        "print(food == 'burger')\n",
        "print('\\n')\n",
        "country = 'Ghana'\n",
        "print(\"Is country == 'Ghana'? I predict true.\")\n",
        "print(country == 'Ghana')\n",
        "\n",
        "print(\"\\nIs country == 'gambia'? I predict false\")\n",
        "print(Country == 'gambia')\n",
        "print('\\n')\n",
        "\n"
      ]
    },
    {
      "cell_type": "code",
      "source": [
        "# TIY 5-2\n",
        "nice = 'ben'\n",
        "print('is ben nice?')\n",
        "print(nice == 'ben')\n",
        "print('\\n')\n",
        "nice = 'hafiz'\n",
        "print('is hafiz nice?')\n",
        "print(nice == 'ben')\n",
        "print('\\n')\n",
        "nice = 'Ben'\n",
        "print('Is Ben nice?')\n",
        "print(nice == 'Ben')\n",
        "\n",
        "print('\\n')\n",
        "nice = 'Ben'\n",
        "print('Is Ben nice?')\n",
        "print(nice.lower() == 'Ben')\n",
        "\n",
        "print('\\n')\n",
        "age = 20\n",
        "print('is ben older than 10')\n",
        "print(age > 10)\n",
        "print('\\n')\n",
        "age = 20\n",
        "print('is ben younger than 10')\n",
        "print(age < 10)\n",
        "\n",
        "\n"
      ],
      "metadata": {
        "id": "SYuCOomN-oa1",
        "colab": {
          "base_uri": "https://localhost:8080/"
        },
        "outputId": "16dc5d16-08a7-4aef-a289-c78904f04091"
      },
      "execution_count": null,
      "outputs": [
        {
          "output_type": "stream",
          "name": "stdout",
          "text": [
            "is ben nice?\n",
            "True\n",
            "\n",
            "\n",
            "is hafiz nice?\n",
            "False\n",
            "\n",
            "\n",
            "Is Ben nice?\n",
            "True\n",
            "\n",
            "\n",
            "Is Ben nice?\n",
            "False\n",
            "\n",
            "\n",
            "is ben older than 10\n",
            "True\n",
            "\n",
            "\n",
            "is ben younger than 10\n",
            "False\n"
          ]
        }
      ]
    },
    {
      "cell_type": "code",
      "source": [
        "age = 20\n",
        "hafiz = 20\n",
        "ben = 18\n",
        "print('hafiz and ben both the same age')\n",
        "print(age == hafiz and age == ben)\n",
        "\n",
        "print(age == hafiz or age == ben)\n",
        "\n",
        "print('\\n')\n",
        "name = ['hafiz','dares','Ben','Mohammed']\n",
        "print('hafiz' in name)\n",
        "\n",
        "print('hafiz' not in name)\n"
      ],
      "metadata": {
        "colab": {
          "base_uri": "https://localhost:8080/"
        },
        "id": "0AemnWF-ldmq",
        "outputId": "5ca4c75c-5d54-4e7d-e2bb-cd88a5691c21"
      },
      "execution_count": null,
      "outputs": [
        {
          "output_type": "stream",
          "name": "stdout",
          "text": [
            "hafiz and ben both the same age\n",
            "False\n",
            "True\n",
            "\n",
            "\n",
            "True\n",
            "False\n"
          ]
        }
      ]
    },
    {
      "cell_type": "code",
      "source": [
        "# TIY 5-3\n",
        "alien_color = 'green'\n",
        "if alien_color == 'green':\n",
        "    print(\"Player just earned 5 points\")\n",
        "if alien_color == 'red':\n",
        "    print(\"Player just earned 10 points\")"
      ],
      "metadata": {
        "colab": {
          "base_uri": "https://localhost:8080/"
        },
        "id": "lj-nh0_grSfb",
        "outputId": "213eb9d0-993b-4432-e898-8965dcd9e43f"
      },
      "execution_count": null,
      "outputs": [
        {
          "output_type": "stream",
          "name": "stdout",
          "text": [
            "Player just earned 5 points\n"
          ]
        }
      ]
    },
    {
      "cell_type": "code",
      "source": [
        "# TIY 5-4\n",
        "alien_color = 'green'\n",
        "if alien_color == 'green':\n",
        "    print(\"Player just earned 5 points\")\n",
        "else:\n",
        "  print(\"you just earned 10 points!\")\n",
        "\n",
        "print('\\n')\n",
        "alien_color = 'yellow'\n",
        "\n",
        "if alien_color == 'green':\n",
        "    print(\"Player just earned 5 points\")\n",
        "else:\n",
        "  print(\"You just earned 10 points!\")"
      ],
      "metadata": {
        "colab": {
          "base_uri": "https://localhost:8080/"
        },
        "id": "hBNmFl0P6Gmq",
        "outputId": "6214d58b-be0c-46ea-a3ae-b2c1f17a5465"
      },
      "execution_count": null,
      "outputs": [
        {
          "output_type": "stream",
          "name": "stdout",
          "text": [
            "Player just earned 5 points\n",
            "\n",
            "\n",
            "You just earned 10 points!\n"
          ]
        }
      ]
    },
    {
      "cell_type": "code",
      "source": [
        "# TIY 5-5\n",
        "alien_color = 'red'\n",
        "if alien_color == 'green':\n",
        "    print(\"Player just earned 5 points\")\n",
        "elif alien_color == 'yellow':\n",
        "      print(\"You just earned 10 points!\")\n",
        "else:\n",
        "  print(\"You just earned 15 points!\")"
      ],
      "metadata": {
        "colab": {
          "base_uri": "https://localhost:8080/"
        },
        "id": "O9kCv4Xq7Tgi",
        "outputId": "c22c1aef-dc2f-4025-df33-76884d1f3ade"
      },
      "execution_count": null,
      "outputs": [
        {
          "output_type": "stream",
          "name": "stdout",
          "text": [
            "You just earned 15 points!\n"
          ]
        }
      ]
    },
    {
      "cell_type": "code",
      "source": [
        "# TIY 5-6\n",
        "age = 19\n",
        "\n",
        "if age < 2:\n",
        "  print(\"You’re a baby\")\n",
        "elif age < 4:\n",
        "  print (\"You’re a toddler\")\n",
        "elif age < 13:\n",
        "  print(\"You’re a kid\")\n",
        "elif age < 20:\n",
        "  print(\"You’re a teenager\")\n",
        "elif age < 65:\n",
        "  print(\"You’re an adult\")\n",
        "else:\n",
        "  print(\"You’re an elder\")"
      ],
      "metadata": {
        "colab": {
          "base_uri": "https://localhost:8080/"
        },
        "id": "Oz5jT35U8k1Q",
        "outputId": "aca78f5e-1a6f-401e-e450-ba6141b62273"
      },
      "execution_count": null,
      "outputs": [
        {
          "output_type": "stream",
          "name": "stdout",
          "text": [
            "You’re a teenager\n"
          ]
        }
      ]
    },
    {
      "cell_type": "code",
      "source": [
        "#TIY 5-7\n",
        "favorite_fruits = ['pineapple','mango','cherry']\n",
        "\n",
        "if 'grapes' in favorite_fruits:\n",
        "  print(\"You really like grapes\")\n",
        "if 'orange' in favorite_fruits:\n",
        "  print(\"You really like orange\")\n",
        "if 'mango' in favorite_fruits:\n",
        "  print(\"You really like mango\")\n",
        "if 'watermelon' in favorite_fruits:\n",
        "  print(\"You really like watermelon\")\n",
        "if 'cherry' in favorite_fruits:\n",
        "  print(\"You really like cherry\")"
      ],
      "metadata": {
        "colab": {
          "base_uri": "https://localhost:8080/"
        },
        "id": "UeWQuCmA-QaL",
        "outputId": "4bcec9a3-fa3a-4da3-d244-ed5621ca7ecf"
      },
      "execution_count": null,
      "outputs": [
        {
          "output_type": "stream",
          "name": "stdout",
          "text": [
            "You really like mango\n",
            "You really like cherry\n"
          ]
        }
      ]
    },
    {
      "cell_type": "code",
      "source": [
        "#TIY 5-8\n",
        "usernames = ['dares', 'emad', 'admin', 'dilling', 'ofori']\n",
        "\n",
        "for username in usernames:\n",
        "  if username == 'admin':\n",
        "    print(\"Hello admin, would like to see a status report?\")\n",
        "  else:\n",
        "    print(f\"Hello {username}, thank you for loggin in again\")"
      ],
      "metadata": {
        "colab": {
          "base_uri": "https://localhost:8080/"
        },
        "id": "TunZhpa1ANlJ",
        "outputId": "c7831753-1fb4-45e5-884a-ddbead207c42"
      },
      "execution_count": null,
      "outputs": [
        {
          "output_type": "stream",
          "name": "stdout",
          "text": [
            "Hello dares, thank you for loggin in again\n",
            "Hello emad, thank you for loggin in again\n",
            "Hello admin, would like to see a status report?\n",
            "Hello dilling, thank you for loggin in again\n",
            "Hello ofori, thank you for loggin in again\n"
          ]
        }
      ]
    },
    {
      "cell_type": "code",
      "source": [
        "#TIY 5-9\n",
        "usernames = []\n",
        "\n",
        "if usernames:\n",
        "  for username in usernames:\n",
        "    if username == 'admin':\n",
        "      print(\"Hello admin, would you like to see a status report?\")\n",
        "    else:\n",
        "      print(f\"Hello {username}, thank you for loggin in again\")\n",
        "\n",
        "else:\n",
        "    print(\"We need to find some users\")"
      ],
      "metadata": {
        "id": "cvX8PPblDUy7",
        "colab": {
          "base_uri": "https://localhost:8080/"
        },
        "outputId": "a3bc99f5-71fb-4722-8079-fae358f35794"
      },
      "execution_count": null,
      "outputs": [
        {
          "output_type": "stream",
          "name": "stdout",
          "text": [
            "We need to find some users\n"
          ]
        }
      ]
    },
    {
      "cell_type": "code",
      "source": [
        "#TIY 5-10\n",
        "current_users = ['johnny', 'joel', 'admin', 'hafiz', 'sid']\n",
        "new_users = ['freddy','rukaiya', 'rahma','liz', 'cindy']\n",
        "\n",
        "current_users_lower = [user.lower() for user in current_users]\n",
        "\n",
        "for new_user in new_users:\n",
        "  if new_user.lower() in current_users_lower:\n",
        "    print(f\"Sorry {new_user}, that name is taken.\")\n",
        "  else:\n",
        "    print(f\"Great, {new_user} is still available.\")"
      ],
      "metadata": {
        "colab": {
          "base_uri": "https://localhost:8080/"
        },
        "id": "iOChtZezE3Un",
        "outputId": "2372a64e-4286-47e7-a080-98411c5f4fcc"
      },
      "execution_count": null,
      "outputs": [
        {
          "output_type": "stream",
          "name": "stdout",
          "text": [
            "Great, freddy is still available.\n",
            "Great, rukaiya is still available.\n",
            "Great, rahma is still available.\n",
            "Great, liz is still available.\n",
            "Great, cindy is still available.\n"
          ]
        }
      ]
    },
    {
      "cell_type": "code",
      "source": [
        "#TIY 5-11\n",
        "numbers = list(range(1,10))\n",
        "\n",
        "for number in numbers:\n",
        "  if number == 1:\n",
        "    print(\"1st\")\n",
        "  elif number == 2:\n",
        "    print(\"2nd\")\n",
        "  elif number == 3:\n",
        "    print(\"3rd\")\n",
        "  else:\n",
        "    print(f\"{number}th\")\n"
      ],
      "metadata": {
        "colab": {
          "base_uri": "https://localhost:8080/"
        },
        "id": "skLyeFOCHDAu",
        "outputId": "b59b4104-0bde-4997-90f9-452a29a1ce27"
      },
      "execution_count": null,
      "outputs": [
        {
          "output_type": "stream",
          "name": "stdout",
          "text": [
            "1st\n",
            "2nd\n",
            "3rd\n",
            "4th\n",
            "5th\n",
            "6th\n",
            "7th\n",
            "8th\n",
            "9th\n"
          ]
        }
      ]
    },
    {
      "cell_type": "code",
      "source": [
        "#Scenario\n",
        "#Every thursday we gathered to play soccer with friends\n",
        "#We make two team to play\n",
        "#Each team need minimum of 5 players\n",
        "# At least 12 players to show up\n",
        "\n"
      ],
      "metadata": {
        "id": "knDkbh6n45bJ"
      },
      "execution_count": null,
      "outputs": []
    },
    {
      "cell_type": "code",
      "source": [
        "#flowchart\n",
        "# i created a varaiable player_count = 12\n",
        "# i also created a variable minimum_player_required = 5\n",
        "# i started with the if statements where i put player_count < minimum_player_required\n",
        "# i print not enough players\n",
        "# i also put elif statement where i Player_count == minimum_player_required: equal to each other\n",
        "# i print out enough players\n",
        "# i then add another elif statement where i put player_count > minimum_player_required\n",
        "# i print out too many plays\n",
        "# i then put else statement where if is not any of them\n",
        "# print out need more players"
      ],
      "metadata": {
        "id": "DAdVfs1r6DU2"
      },
      "execution_count": null,
      "outputs": []
    },
    {
      "cell_type": "code",
      "source": [
        "#TIY 5-13\n",
        "Player_count = 12\n",
        "minimum_player_required = 5\n",
        "\n",
        "if Player_count < minimum_player_required:\n",
        "  print('not enough players')\n",
        "elif Player_count == minimum_player_required:\n",
        "  print('team has enough players')\n",
        "elif Player_count > minimum_player_required:\n",
        "  print('too many players')\n",
        "else:\n",
        "  print('need more players')\n"
      ],
      "metadata": {
        "id": "puxKPVezIOv7",
        "colab": {
          "base_uri": "https://localhost:8080/"
        },
        "outputId": "8797073e-059e-48f0-9769-6e97ffbfcddb"
      },
      "execution_count": 6,
      "outputs": [
        {
          "output_type": "stream",
          "name": "stdout",
          "text": [
            "too many players\n"
          ]
        }
      ]
    },
    {
      "cell_type": "code",
      "source": [
        "Player_count = 12\n",
        "minimum_player_required = 5\n",
        "\n",
        "if Player_count < minimum_player_required:\n",
        "  print('not enough players')\n",
        "elif Player_count == minimum_player_required:\n",
        "  print('team has enough players')\n",
        "else:\n",
        "\n",
        "  print('too many players')\n",
        "\n"
      ],
      "metadata": {
        "colab": {
          "base_uri": "https://localhost:8080/"
        },
        "id": "aGGAw4xs-bbU",
        "outputId": "bdf8d9c0-a613-4434-8006-19065629771d"
      },
      "execution_count": 17,
      "outputs": [
        {
          "output_type": "stream",
          "name": "stdout",
          "text": [
            "too many players\n"
          ]
        }
      ]
    },
    {
      "cell_type": "code",
      "source": [
        "\n",
        "Player_count = 0\n",
        "minimum_player_required = 5\n",
        "\n",
        "if Player_count < minimum_player_required:\n",
        "  print('not enough players')\n",
        "elif Player_count == minimum_player_required:\n",
        "  print('team has enough players')\n",
        "else:\n",
        "  print('too many players')\n",
        ""
      ],
      "metadata": {
        "colab": {
          "base_uri": "https://localhost:8080/"
        },
        "id": "OSuWQscI-08r",
        "outputId": "47aa8fa7-fcf8-4037-d36c-1e2a6575a4ba"
      },
      "execution_count": 15,
      "outputs": [
        {
          "output_type": "stream",
          "name": "stdout",
          "text": [
            "not enough players\n"
          ]
        }
      ]
    },
    {
      "cell_type": "code",
      "source": [
        "Player_count = 12\n",
        "minimum_player_required = 12\n",
        "\n",
        "if Player_count < minimum_player_required:\n",
        "  print('not enough players')\n",
        "elif Player_count == minimum_player_required:\n",
        "  print('team has enough players')\n",
        "else:\n",
        "\n",
        "  print('too many players')\n"
      ],
      "metadata": {
        "colab": {
          "base_uri": "https://localhost:8080/"
        },
        "id": "Xrkr1qZODfcs",
        "outputId": "9ba04a9f-dad3-48bb-f883-24b219a68bc5"
      },
      "execution_count": 18,
      "outputs": [
        {
          "output_type": "stream",
          "name": "stdout",
          "text": [
            "team has enough players\n"
          ]
        }
      ]
    },
    {
      "cell_type": "markdown",
      "source": [],
      "metadata": {
        "id": "Sj3-KR7wW5n_"
      }
    }
  ]
}