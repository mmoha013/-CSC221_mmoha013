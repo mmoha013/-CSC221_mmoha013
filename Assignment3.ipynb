{
  "nbformat": 4,
  "nbformat_minor": 0,
  "metadata": {
    "colab": {
      "provenance": [],
      "authorship_tag": "ABX9TyPeneS5BHbL1/xQbYSY9Zel",
      "include_colab_link": true
    },
    "kernelspec": {
      "name": "python3",
      "display_name": "Python 3"
    },
    "language_info": {
      "name": "python"
    }
  },
  "cells": [
    {
      "cell_type": "markdown",
      "metadata": {
        "id": "view-in-github",
        "colab_type": "text"
      },
      "source": [
        "<a href=\"https://colab.research.google.com/github/mmoha013/-CSC221_mmoha013/blob/main/Assignment3.ipynb\" target=\"_parent\"><img src=\"https://colab.research.google.com/assets/colab-badge.svg\" alt=\"Open In Colab\"/></a>"
      ]
    },
    {
      "cell_type": "code",
      "execution_count": 1,
      "metadata": {
        "colab": {
          "base_uri": "https://localhost:8080/"
        },
        "id": "oPJSaHxOy391",
        "outputId": "45bd488a-d6d8-449f-fb2b-4a65e55ee94c"
      },
      "outputs": [
        {
          "output_type": "stream",
          "name": "stdout",
          "text": [
            "Ghana got the best jollof\n"
          ]
        }
      ],
      "source": [
        "# TIY 2-1 Ben 02/13/2024\n",
        "message = (\"Ghana got the best jollof\")\n",
        "print(message)"
      ]
    },
    {
      "cell_type": "code",
      "source": [],
      "metadata": {
        "id": "3AFsLQuRVjRJ"
      },
      "execution_count": null,
      "outputs": []
    },
    {
      "cell_type": "code",
      "source": [],
      "metadata": {
        "id": "Nz-7eBi72qkZ"
      },
      "execution_count": null,
      "outputs": []
    },
    {
      "cell_type": "code",
      "source": [
        "# TIY 2-3 Ben 02/13/2024\n",
        "name = 'Ben'\n",
        "\n",
        "print(f'Hello, {name}, would you like to learn some Python today?')\n",
        "\n"
      ],
      "metadata": {
        "colab": {
          "base_uri": "https://localhost:8080/"
        },
        "id": "TCzL6c3p99Hp",
        "outputId": "c4b8ebf7-db89-4dfd-d05e-ecad2064e6bd"
      },
      "execution_count": 3,
      "outputs": [
        {
          "output_type": "stream",
          "name": "stdout",
          "text": [
            "Hello, Ben, would you like to learn some Python today?\n"
          ]
        }
      ]
    },
    {
      "cell_type": "code",
      "source": [
        "# TIY 2-4 Ben 02/13/2024\n",
        "name = \"Ben Mohammed\"\n",
        "print(name.upper())\n",
        "print(name.lower())\n",
        "print(name.title())"
      ],
      "metadata": {
        "colab": {
          "base_uri": "https://localhost:8080/"
        },
        "id": "dIq4mp3J-omK",
        "outputId": "ed6ddb28-fa76-4410-d83f-3dd72ecaa3ef"
      },
      "execution_count": 16,
      "outputs": [
        {
          "output_type": "stream",
          "name": "stdout",
          "text": [
            "BEN MOHAMMED\n",
            "ben mohammed\n",
            "Ben Mohammed\n"
          ]
        }
      ]
    },
    {
      "cell_type": "code",
      "source": [
        "# TIY 2-5 Ben 02/13/2024\n",
        "quote = 'No man who is in a hurry is quite civilized.'\n",
        "name = \"- Will Durant\"\n",
        "print(quote + name )"
      ],
      "metadata": {
        "colab": {
          "base_uri": "https://localhost:8080/"
        },
        "id": "xOdjvsdRFaq4",
        "outputId": "371ee642-9169-46d1-a567-8cc47ff264cb"
      },
      "execution_count": 19,
      "outputs": [
        {
          "output_type": "stream",
          "name": "stdout",
          "text": [
            "No man who is in a hurry is quite civilized.- Will Durant\n"
          ]
        }
      ]
    },
    {
      "cell_type": "code",
      "source": [
        "# TIY 2-6 Ben 02/13/2024\n",
        "famous_person = '- Will Durant'\n",
        "message = \"No man who is in a hurry is quite civilized.\"\n",
        "print(message)"
      ],
      "metadata": {
        "colab": {
          "base_uri": "https://localhost:8080/"
        },
        "id": "g_fLHktdHb-q",
        "outputId": "fc354eb9-a0d7-46d8-d5bc-f3c03cc94e48"
      },
      "execution_count": 21,
      "outputs": [
        {
          "output_type": "stream",
          "name": "stdout",
          "text": [
            "No man who is in a hurry is quite civilized.\n"
          ]
        }
      ]
    },
    {
      "cell_type": "code",
      "source": [
        "# TIY 2-7 ( every strip have is own programming)\n",
        "name = \"   Ben   Mohammed  \"\n",
        "print(name)\n",
        "print(name.lstrip())\n",
        "print(name.rstrip())\n",
        "print(name.strip())"
      ],
      "metadata": {
        "colab": {
          "base_uri": "https://localhost:8080/"
        },
        "id": "1USs4YoVJB4D",
        "outputId": "f9e762e6-e14e-4b5e-c8b6-0ff22716c5c3"
      },
      "execution_count": 28,
      "outputs": [
        {
          "output_type": "stream",
          "name": "stdout",
          "text": [
            "   Ben   Mohammed  \n",
            "Ben   Mohammed  \n",
            "   Ben   Mohammed\n",
            "Ben   Mohammed\n"
          ]
        }
      ]
    },
    {
      "cell_type": "code",
      "source": [
        "# TIY 2-8 Ben 02/13/2024\n",
        "print(5+3)\n",
        "print(20-12)\n",
        "print(2*4)\n",
        "print(16/2)"
      ],
      "metadata": {
        "colab": {
          "base_uri": "https://localhost:8080/"
        },
        "id": "H45sdR4SJsab",
        "outputId": "a788d8f8-75e0-4707-a52a-ff41288a96c7"
      },
      "execution_count": 32,
      "outputs": [
        {
          "output_type": "stream",
          "name": "stdout",
          "text": [
            "8\n",
            "8\n",
            "8\n",
            "8.0\n"
          ]
        }
      ]
    },
    {
      "cell_type": "code",
      "source": [
        "# TIY 2-9 (This program is my favorite number)\n",
        "number = 10\n",
        "message = 'favorite number is '\n",
        "print(message, number)\n",
        "\n"
      ],
      "metadata": {
        "colab": {
          "base_uri": "https://localhost:8080/"
        },
        "id": "P4gGQlstQzqv",
        "outputId": "54fcf7cd-3bf8-422c-b09b-4a89691e8d3b"
      },
      "execution_count": 35,
      "outputs": [
        {
          "output_type": "stream",
          "name": "stdout",
          "text": [
            "favorite number is  10\n"
          ]
        }
      ]
    },
    {
      "cell_type": "code",
      "source": [
        "# TIY 2-11\n",
        "import this\n"
      ],
      "metadata": {
        "colab": {
          "base_uri": "https://localhost:8080/"
        },
        "id": "dpfBo5G-2vwY",
        "outputId": "b975d15d-459c-4a00-ac40-edcced9dab8c"
      },
      "execution_count": 1,
      "outputs": [
        {
          "output_type": "stream",
          "name": "stdout",
          "text": [
            "The Zen of Python, by Tim Peters\n",
            "\n",
            "Beautiful is better than ugly.\n",
            "Explicit is better than implicit.\n",
            "Simple is better than complex.\n",
            "Complex is better than complicated.\n",
            "Flat is better than nested.\n",
            "Sparse is better than dense.\n",
            "Readability counts.\n",
            "Special cases aren't special enough to break the rules.\n",
            "Although practicality beats purity.\n",
            "Errors should never pass silently.\n",
            "Unless explicitly silenced.\n",
            "In the face of ambiguity, refuse the temptation to guess.\n",
            "There should be one-- and preferably only one --obvious way to do it.\n",
            "Although that way may not be obvious at first unless you're Dutch.\n",
            "Now is better than never.\n",
            "Although never is often better than *right* now.\n",
            "If the implementation is hard to explain, it's a bad idea.\n",
            "If the implementation is easy to explain, it may be a good idea.\n",
            "Namespaces are one honking great idea -- let's do more of those!\n"
          ]
        }
      ]
    }
  ]
}