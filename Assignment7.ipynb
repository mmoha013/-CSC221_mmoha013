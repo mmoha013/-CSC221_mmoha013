{
  "nbformat": 4,
  "nbformat_minor": 0,
  "metadata": {
    "colab": {
      "provenance": [],
      "authorship_tag": "ABX9TyPARKe9bxPPJiQF8r11G00z",
      "include_colab_link": true
    },
    "kernelspec": {
      "name": "python3",
      "display_name": "Python 3"
    },
    "language_info": {
      "name": "python"
    }
  },
  "cells": [
    {
      "cell_type": "markdown",
      "metadata": {
        "id": "view-in-github",
        "colab_type": "text"
      },
      "source": [
        "<a href=\"https://colab.research.google.com/github/mmoha013/-CSC221_mmoha013/blob/main/Assignment7.ipynb\" target=\"_parent\"><img src=\"https://colab.research.google.com/assets/colab-badge.svg\" alt=\"Open In Colab\"/></a>"
      ]
    },
    {
      "cell_type": "code",
      "execution_count": null,
      "metadata": {
        "colab": {
          "base_uri": "https://localhost:8080/"
        },
        "id": "myKwANK4-d_d",
        "outputId": "197dcf9c-784f-4513-f626-c17d873c8cc3"
      },
      "outputs": [
        {
          "output_type": "stream",
          "name": "stdout",
          "text": [
            "dares\n",
            "kareem\n",
            "20\n",
            "bronx\n"
          ]
        }
      ],
      "source": [
        "# TIY 6-1\n",
        "name = {\n",
        "    'first_name': 'dares',\n",
        "    'last_name' :  'kareem',\n",
        "    'age': 20,\n",
        "    'city': 'bronx',\n",
        "    }\n",
        "print(name['first_name'])\n",
        "print(name['last_name'])\n",
        "print(name['age'])\n",
        "print(name['city'])"
      ]
    },
    {
      "cell_type": "code",
      "source": [
        "# TIY 6-2\n",
        "favorite_number = {'dilling': 22,\n",
        "                   'dares' : 20,\n",
        "                   'ben' : 19,\n",
        "                   'johnny' : 21,\n",
        "                   'hafiz' : 18,\n",
        "                   }\n",
        "num = favorite_number ['dilling']\n",
        "print(f\"dilling favorite number is {num}.\")\n",
        "\n",
        "num = favorite_number ['dares']\n",
        "print(f\"dares favorite number is {num}.\")\n",
        "\n",
        "num = favorite_number ['ben']\n",
        "print(f\"ben favorite number is {num}.\")\n",
        "\n",
        "num = favorite_number ['johnny']\n",
        "print(f\"johnny favorite number is {num}.\")\n",
        "\n",
        "num = favorite_number ['hafiz']\n",
        "print(f\"hafiz favorite number is {num}.\")"
      ],
      "metadata": {
        "colab": {
          "base_uri": "https://localhost:8080/"
        },
        "id": "vacJqC-wBQGj",
        "outputId": "d95c17e0-b5d5-41c0-a23b-fa11dafac6bf"
      },
      "execution_count": null,
      "outputs": [
        {
          "output_type": "stream",
          "name": "stdout",
          "text": [
            "dilling favorite number is 22.\n",
            "dares favorite number is 20.\n",
            "ben favorite number is 19.\n",
            "johnny favorite number is 21.\n",
            "hafiz favorite number is 18.\n"
          ]
        }
      ]
    },
    {
      "cell_type": "code",
      "source": [
        "# TIY 6-3\n",
        "glossary = {'loop': 'work through a collection of item, one at a time.',\n",
        "            'comment': 'is a note python interpreter igonres',\n",
        "            'list': 'a collection of item in a particulars order',\n",
        "            'dictionary' : ' a collection of key-value pairs',\n",
        "            'string' : \"a serie of characters.\" }\n",
        "word = 'loop'\n",
        "print(f\"\\n{word.title()}: {glossary[word]}\")\n",
        "\n",
        "word = 'comment'\n",
        "print(f\"\\n{word.title()}: {glossary[word]}\")\n",
        "\n",
        "word = 'list'\n",
        "print(f\"\\n{word.title()}: {glossary[word]}\")\n",
        "\n",
        "word = 'dictionary'\n",
        "print(f\"\\n{word.title()}: {glossary[word]}\")\n",
        "\n",
        "word = 'string'\n",
        "print(f\"\\n{word.title()}: {glossary[word]}\")"
      ],
      "metadata": {
        "colab": {
          "base_uri": "https://localhost:8080/"
        },
        "id": "7-g4ocDmVAeO",
        "outputId": "183101e1-d118-4044-a474-c83f502e74fa"
      },
      "execution_count": null,
      "outputs": [
        {
          "output_type": "stream",
          "name": "stdout",
          "text": [
            "\n",
            "Loop: work through a collection of item, one at a time.\n",
            "\n",
            "Comment: is a note python interpreter igonres\n",
            "\n",
            "List: a collection of item in a particulars order\n",
            "\n",
            "Dictionary:  a collection of key-value pairs\n",
            "\n",
            "String: a serie of characters.\n"
          ]
        }
      ]
    },
    {
      "cell_type": "code",
      "source": [
        "# TIY 6-4 not done\n",
        "glossary = {'loop': 'work through a collection of item, one at a time.',\n",
        "            'comment': 'is a note python interpreter igonres',\n",
        "            'list': 'a collection of item in a particulars order',\n",
        "            'dictionary' : ' a collection of key-value pairs',\n",
        "            'print' : \"to print a message\" }\n",
        "\n",
        "for key, value in glossary.items():\n",
        "    print(f\"{key}: {value}\")"
      ],
      "metadata": {
        "id": "-kg_C3A7eFad",
        "colab": {
          "base_uri": "https://localhost:8080/"
        },
        "outputId": "795c2431-7726-40dd-8df9-6d3fb747ae46"
      },
      "execution_count": 2,
      "outputs": [
        {
          "output_type": "stream",
          "name": "stdout",
          "text": [
            "loop: work through a collection of item, one at a time.\n",
            "comment: is a note python interpreter igonres\n",
            "list: a collection of item in a particulars order\n",
            "dictionary:  a collection of key-value pairs\n",
            "print: to print a message\n"
          ]
        }
      ]
    },
    {
      "cell_type": "code",
      "source": [
        "glossary = {'loop': 'work through a collection of item, one at a time.',\n",
        "            'comment': 'is a note python interpreter igonres',\n",
        "            'list': 'a collection of item in a particulars order',\n",
        "            'dictionary' : ' a collection of key-value pairs',\n",
        "            'print': 'to print a message',\n",
        "            'def' : 'It is used to define the Function',\n",
        "            'elif' : 'Conditional statements, same as else-if',\n",
        "            'else' : 'It is used in a conditional statement',\n",
        "            'if': 'To create a Conditional Statement',\n",
        "            'del' : 'It is used to delete an object'}\n",
        "\n",
        "for key, value in glossary.items():\n",
        "      print(f\"{key}: {value}\")"
      ],
      "metadata": {
        "colab": {
          "base_uri": "https://localhost:8080/"
        },
        "id": "EiGjuep9gR5V",
        "outputId": "19d6ecbe-1b63-4a4a-dd5d-2c997ec26207"
      },
      "execution_count": 8,
      "outputs": [
        {
          "output_type": "stream",
          "name": "stdout",
          "text": [
            "loop: work through a collection of item, one at a time.\n",
            "comment: is a note python interpreter igonres\n",
            "list: a collection of item in a particulars order\n",
            "dictionary:  a collection of key-value pairs\n",
            "print: to print a message\n",
            "def: It is used to define the Function\n",
            "elif: Conditional statements, same as else-if\n",
            "else: It is used in a conditional statement\n",
            "if: To create a Conditional Statement\n",
            "del: It is used to delete an object\n"
          ]
        }
      ]
    },
    {
      "cell_type": "code",
      "source": [
        "#TIY 6-11\n",
        "cities = {\n",
        "    'kumasi': {\n",
        "        'location': 'ghana',\n",
        "        'population': 34_559_620,\n",
        "        'fun fact': 'Ghana was proclaimed a British crown colony from 1875.'\n",
        "    },\n",
        "    'Munich': {\n",
        "        'location': 'germany',\n",
        "        'population': 1_553_000,\n",
        "        'fun fact': 'A Highway System With No Speed Limits'\n",
        "    },\n",
        "    'toronto': {\n",
        "        'location': 'canada',\n",
        "        'population': 2_794_356,\n",
        "        'fun fact': 'Canada is the world’s second largest country'\n",
        "    }\n",
        "}\n",
        "\n",
        "for key, value in cities.items():\n",
        "    print(key, \":\", value)\n",
        "\n"
      ],
      "metadata": {
        "colab": {
          "base_uri": "https://localhost:8080/"
        },
        "id": "vIK46O0h7QrE",
        "outputId": "968463dd-ea78-44df-f86c-99acaa46f099"
      },
      "execution_count": 14,
      "outputs": [
        {
          "output_type": "stream",
          "name": "stdout",
          "text": [
            "kumasi : {'location': 'ghana', 'population': 34559620, 'fun fact': 'Ghana was proclaimed a British crown colony from 1875.'}\n",
            "Munich : {'location': 'germany', 'population': 1553000, 'fun fact': 'A Highway System With No Speed Limits'}\n",
            "toronto : {'location': 'canada', 'population': 2794356, 'fun fact': 'Canada is the world’s second largest country'}\n"
          ]
        }
      ]
    },
    {
      "cell_type": "code",
      "source": [
        "#TIY 6-12\n",
        "from google.colab import files\n",
        "uploaded = files.upload()"
      ],
      "metadata": {
        "colab": {
          "base_uri": "https://localhost:8080/",
          "height": 74
        },
        "id": "N3wFym4_s7c8",
        "outputId": "42a1740a-6ed4-48b9-ca90-e29ecd8875d8"
      },
      "execution_count": 1,
      "outputs": [
        {
          "output_type": "display_data",
          "data": {
            "text/plain": [
              "<IPython.core.display.HTML object>"
            ],
            "text/html": [
              "\n",
              "     <input type=\"file\" id=\"files-f8a4df24-6a9b-4639-8f74-76a33a4a15d9\" name=\"files[]\" multiple disabled\n",
              "        style=\"border:none\" />\n",
              "     <output id=\"result-f8a4df24-6a9b-4639-8f74-76a33a4a15d9\">\n",
              "      Upload widget is only available when the cell has been executed in the\n",
              "      current browser session. Please rerun this cell to enable.\n",
              "      </output>\n",
              "      <script>// Copyright 2017 Google LLC\n",
              "//\n",
              "// Licensed under the Apache License, Version 2.0 (the \"License\");\n",
              "// you may not use this file except in compliance with the License.\n",
              "// You may obtain a copy of the License at\n",
              "//\n",
              "//      http://www.apache.org/licenses/LICENSE-2.0\n",
              "//\n",
              "// Unless required by applicable law or agreed to in writing, software\n",
              "// distributed under the License is distributed on an \"AS IS\" BASIS,\n",
              "// WITHOUT WARRANTIES OR CONDITIONS OF ANY KIND, either express or implied.\n",
              "// See the License for the specific language governing permissions and\n",
              "// limitations under the License.\n",
              "\n",
              "/**\n",
              " * @fileoverview Helpers for google.colab Python module.\n",
              " */\n",
              "(function(scope) {\n",
              "function span(text, styleAttributes = {}) {\n",
              "  const element = document.createElement('span');\n",
              "  element.textContent = text;\n",
              "  for (const key of Object.keys(styleAttributes)) {\n",
              "    element.style[key] = styleAttributes[key];\n",
              "  }\n",
              "  return element;\n",
              "}\n",
              "\n",
              "// Max number of bytes which will be uploaded at a time.\n",
              "const MAX_PAYLOAD_SIZE = 100 * 1024;\n",
              "\n",
              "function _uploadFiles(inputId, outputId) {\n",
              "  const steps = uploadFilesStep(inputId, outputId);\n",
              "  const outputElement = document.getElementById(outputId);\n",
              "  // Cache steps on the outputElement to make it available for the next call\n",
              "  // to uploadFilesContinue from Python.\n",
              "  outputElement.steps = steps;\n",
              "\n",
              "  return _uploadFilesContinue(outputId);\n",
              "}\n",
              "\n",
              "// This is roughly an async generator (not supported in the browser yet),\n",
              "// where there are multiple asynchronous steps and the Python side is going\n",
              "// to poll for completion of each step.\n",
              "// This uses a Promise to block the python side on completion of each step,\n",
              "// then passes the result of the previous step as the input to the next step.\n",
              "function _uploadFilesContinue(outputId) {\n",
              "  const outputElement = document.getElementById(outputId);\n",
              "  const steps = outputElement.steps;\n",
              "\n",
              "  const next = steps.next(outputElement.lastPromiseValue);\n",
              "  return Promise.resolve(next.value.promise).then((value) => {\n",
              "    // Cache the last promise value to make it available to the next\n",
              "    // step of the generator.\n",
              "    outputElement.lastPromiseValue = value;\n",
              "    return next.value.response;\n",
              "  });\n",
              "}\n",
              "\n",
              "/**\n",
              " * Generator function which is called between each async step of the upload\n",
              " * process.\n",
              " * @param {string} inputId Element ID of the input file picker element.\n",
              " * @param {string} outputId Element ID of the output display.\n",
              " * @return {!Iterable<!Object>} Iterable of next steps.\n",
              " */\n",
              "function* uploadFilesStep(inputId, outputId) {\n",
              "  const inputElement = document.getElementById(inputId);\n",
              "  inputElement.disabled = false;\n",
              "\n",
              "  const outputElement = document.getElementById(outputId);\n",
              "  outputElement.innerHTML = '';\n",
              "\n",
              "  const pickedPromise = new Promise((resolve) => {\n",
              "    inputElement.addEventListener('change', (e) => {\n",
              "      resolve(e.target.files);\n",
              "    });\n",
              "  });\n",
              "\n",
              "  const cancel = document.createElement('button');\n",
              "  inputElement.parentElement.appendChild(cancel);\n",
              "  cancel.textContent = 'Cancel upload';\n",
              "  const cancelPromise = new Promise((resolve) => {\n",
              "    cancel.onclick = () => {\n",
              "      resolve(null);\n",
              "    };\n",
              "  });\n",
              "\n",
              "  // Wait for the user to pick the files.\n",
              "  const files = yield {\n",
              "    promise: Promise.race([pickedPromise, cancelPromise]),\n",
              "    response: {\n",
              "      action: 'starting',\n",
              "    }\n",
              "  };\n",
              "\n",
              "  cancel.remove();\n",
              "\n",
              "  // Disable the input element since further picks are not allowed.\n",
              "  inputElement.disabled = true;\n",
              "\n",
              "  if (!files) {\n",
              "    return {\n",
              "      response: {\n",
              "        action: 'complete',\n",
              "      }\n",
              "    };\n",
              "  }\n",
              "\n",
              "  for (const file of files) {\n",
              "    const li = document.createElement('li');\n",
              "    li.append(span(file.name, {fontWeight: 'bold'}));\n",
              "    li.append(span(\n",
              "        `(${file.type || 'n/a'}) - ${file.size} bytes, ` +\n",
              "        `last modified: ${\n",
              "            file.lastModifiedDate ? file.lastModifiedDate.toLocaleDateString() :\n",
              "                                    'n/a'} - `));\n",
              "    const percent = span('0% done');\n",
              "    li.appendChild(percent);\n",
              "\n",
              "    outputElement.appendChild(li);\n",
              "\n",
              "    const fileDataPromise = new Promise((resolve) => {\n",
              "      const reader = new FileReader();\n",
              "      reader.onload = (e) => {\n",
              "        resolve(e.target.result);\n",
              "      };\n",
              "      reader.readAsArrayBuffer(file);\n",
              "    });\n",
              "    // Wait for the data to be ready.\n",
              "    let fileData = yield {\n",
              "      promise: fileDataPromise,\n",
              "      response: {\n",
              "        action: 'continue',\n",
              "      }\n",
              "    };\n",
              "\n",
              "    // Use a chunked sending to avoid message size limits. See b/62115660.\n",
              "    let position = 0;\n",
              "    do {\n",
              "      const length = Math.min(fileData.byteLength - position, MAX_PAYLOAD_SIZE);\n",
              "      const chunk = new Uint8Array(fileData, position, length);\n",
              "      position += length;\n",
              "\n",
              "      const base64 = btoa(String.fromCharCode.apply(null, chunk));\n",
              "      yield {\n",
              "        response: {\n",
              "          action: 'append',\n",
              "          file: file.name,\n",
              "          data: base64,\n",
              "        },\n",
              "      };\n",
              "\n",
              "      let percentDone = fileData.byteLength === 0 ?\n",
              "          100 :\n",
              "          Math.round((position / fileData.byteLength) * 100);\n",
              "      percent.textContent = `${percentDone}% done`;\n",
              "\n",
              "    } while (position < fileData.byteLength);\n",
              "  }\n",
              "\n",
              "  // All done.\n",
              "  yield {\n",
              "    response: {\n",
              "      action: 'complete',\n",
              "    }\n",
              "  };\n",
              "}\n",
              "\n",
              "scope.google = scope.google || {};\n",
              "scope.google.colab = scope.google.colab || {};\n",
              "scope.google.colab._files = {\n",
              "  _uploadFiles,\n",
              "  _uploadFilesContinue,\n",
              "};\n",
              "})(self);\n",
              "</script> "
            ]
          },
          "metadata": {}
        },
        {
          "output_type": "stream",
          "name": "stdout",
          "text": [
            "Saving Assignment 7.txt to Assignment 7.txt\n"
          ]
        }
      ]
    },
    {
      "cell_type": "markdown",
      "source": [],
      "metadata": {
        "id": "FB1LOLBa_b-9"
      }
    },
    {
      "cell_type": "code",
      "source": [
        "assignment7_test = {}\n",
        "f=open('Assignment 7.txt','r')\n",
        "lines= f.readlines()\n",
        "\n",
        "for line in lines:\n",
        "  line = line.strip()\n",
        "  name_num=line.split(',')\n",
        "  assignment7_test[name_num[0]]=name_num[1]\n",
        "  print(assignment7_test)\n",
        "\n"
      ],
      "metadata": {
        "colab": {
          "base_uri": "https://localhost:8080/"
        },
        "id": "PiMcV0HolvWs",
        "outputId": "f86cc5e7-eb8d-457c-b207-e7d32ecd517b"
      },
      "execution_count": 20,
      "outputs": [
        {
          "output_type": "stream",
          "name": "stdout",
          "text": [
            "{'\\ufeffdares': '40'}\n",
            "{'\\ufeffdares': '40', 'kevin': '20'}\n",
            "{'\\ufeffdares': '40', 'kevin': '20', 'dilling': '10'}\n",
            "{'\\ufeffdares': '40', 'kevin': '20', 'dilling': '10', 'hafiz': '90'}\n",
            "{'\\ufeffdares': '40', 'kevin': '20', 'dilling': '10', 'hafiz': '90', 'williams': '50'}\n"
          ]
        }
      ]
    },
    {
      "cell_type": "code",
      "source": [
        "keys = list(assignment7_test.keys())\n",
        "keys.sort()\n",
        "\n",
        "for key in keys:\n",
        "    print(key, \":\", assignment7_test[key])\n"
      ],
      "metadata": {
        "colab": {
          "base_uri": "https://localhost:8080/"
        },
        "id": "AVjD1vVPq2Xc",
        "outputId": "37a19768-652c-4f5c-e051-5daf1e1c23ad"
      },
      "execution_count": 33,
      "outputs": [
        {
          "output_type": "stream",
          "name": "stdout",
          "text": [
            "dilling : 10\n",
            "hafiz : 90\n",
            "kevin : 20\n",
            "williams : 50\n",
            "﻿dares : 40\n"
          ]
        }
      ]
    },
    {
      "cell_type": "code",
      "source": [
        "values = list(assignment7_test.values())\n",
        "values.sort()\n",
        "\n",
        "for value in values:\n",
        "    for key, val in assignment7_test.items():\n",
        "        if val == value:\n",
        "            print(key, \",\", value)\n",
        "            break\n",
        "\n",
        ""
      ],
      "metadata": {
        "colab": {
          "base_uri": "https://localhost:8080/"
        },
        "id": "yaBefHEDtBHu",
        "outputId": "73a19f06-fe57-4d0a-820f-9c04afd8230b"
      },
      "execution_count": 30,
      "outputs": [
        {
          "output_type": "stream",
          "name": "stdout",
          "text": [
            "dilling , 10\n",
            "kevin , 20\n",
            "﻿dares , 40\n",
            "williams , 50\n",
            "hafiz , 90\n"
          ]
        }
      ]
    }
  ]
}