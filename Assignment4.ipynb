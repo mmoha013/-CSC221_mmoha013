{
  "nbformat": 4,
  "nbformat_minor": 0,
  "metadata": {
    "colab": {
      "provenance": [],
      "authorship_tag": "ABX9TyNdr1JSfdhqeBPEJGtOLI+D",
      "include_colab_link": true
    },
    "kernelspec": {
      "name": "python3",
      "display_name": "Python 3"
    },
    "language_info": {
      "name": "python"
    }
  },
  "cells": [
    {
      "cell_type": "markdown",
      "metadata": {
        "id": "view-in-github",
        "colab_type": "text"
      },
      "source": [
        "<a href=\"https://colab.research.google.com/github/mmoha013/-CSC221_mmoha013/blob/main/Assignment4.ipynb\" target=\"_parent\"><img src=\"https://colab.research.google.com/assets/colab-badge.svg\" alt=\"Open In Colab\"/></a>"
      ]
    },
    {
      "cell_type": "code",
      "execution_count": 5,
      "metadata": {
        "id": "dzj_uqhuh8i-",
        "colab": {
          "base_uri": "https://localhost:8080/"
        },
        "outputId": "34e8cba3-5e4c-4181-9e81-2bf6d0a497d7"
      },
      "outputs": [
        {
          "output_type": "stream",
          "name": "stdout",
          "text": [
            "Adam\n",
            "Evans\n",
            "kelvin\n",
            "ofori\n",
            "ponder\n"
          ]
        }
      ],
      "source": [
        "# TIY 3-1\n",
        "friends = ['Adam','Evans','kelvin', 'ofori', 'ponder']\n",
        "print (friends [0])\n",
        "print (friends [1])\n",
        "print (friends [2])\n",
        "print (friends [3])\n",
        "print (friends [4])"
      ]
    },
    {
      "cell_type": "code",
      "source": [
        "# TIY 3-2\n",
        "friends = ['Adam','Evans','kelvin', 'ofori', 'ponder']\n",
        "print (f\"Hi there \" + friends [0])\n",
        "print (f\"Hi there \" + friends [1])\n",
        "print (f\"Hi there \" + friends [2])\n",
        "print (f\"Hi there \" + friends [3])\n",
        "print (f\"Hi there \" + friends [4])"
      ],
      "metadata": {
        "colab": {
          "base_uri": "https://localhost:8080/"
        },
        "id": "CYAy3EhEjwPJ",
        "outputId": "257b195e-4733-4a37-df8e-5897b1de7db9"
      },
      "execution_count": 9,
      "outputs": [
        {
          "output_type": "stream",
          "name": "stdout",
          "text": [
            "Hi there Adam\n",
            "Hi there Evans\n",
            "Hi there kelvin\n",
            "Hi there ofori\n",
            "Hi there ponder\n"
          ]
        }
      ]
    },
    {
      "cell_type": "code",
      "source": [
        "# TIY 3-3\n",
        "cars = ['hyundai sonata', 'dodge charger', 'mercedes-benz']\n",
        "print(f\" My Dream car is a \" + cars [0])\n",
        "print(f\" I used to drive a \" + cars [1])\n",
        "print(f\" i hate mercedes-benz \"+ cars [2])"
      ],
      "metadata": {
        "colab": {
          "base_uri": "https://localhost:8080/"
        },
        "id": "iqRDUH5pnJas",
        "outputId": "75afe234-1016-4d3e-e7f0-d5074215f8a0"
      },
      "execution_count": 11,
      "outputs": [
        {
          "output_type": "stream",
          "name": "stdout",
          "text": [
            " My Dream car is a hyundai sonata\n",
            " I used to drive a dodge charger\n",
            " i hate mercedes-benz mercedes-benz\n"
          ]
        }
      ]
    },
    {
      "cell_type": "code",
      "source": [
        "# TIY 3-4\n",
        "friends = ['Adam','Evans','kelvin', ]\n",
        "print(f\"Hello you invited to my dinner \" +friends [0])\n",
        "print(f\"Hello you invited to my dinner \" + friends [1] )\n",
        "print(f\"Hello you invited to my dinner \" + friends [2] )"
      ],
      "metadata": {
        "colab": {
          "base_uri": "https://localhost:8080/"
        },
        "id": "4ggCnmjyfpxI",
        "outputId": "7a816849-e5a5-4d88-8677-ab020d374ab8"
      },
      "execution_count": 23,
      "outputs": [
        {
          "output_type": "stream",
          "name": "stdout",
          "text": [
            "Hello you invited to my dinner Adam\n",
            "Hello you invited to my dinner Evans\n",
            "Hello you invited to my dinner kelvin\n"
          ]
        }
      ]
    },
    {
      "cell_type": "code",
      "source": [
        "# TIY 3-5\n",
        "friends = ['Adam','Evans','kelvin', ]\n",
        "print(f\" Hello you invited to my dinner \" +friends [0])\n",
        "print(f\" Hello you invited to my dinner \" + friends [1] )\n",
        "print(f\" Hello you invited to my dinner \" + friends [2] )\n",
        "print(f\"{friends[2]} cant make it \")\n",
        "del friends[2]\n",
        "print(friends)\n",
        "print(f\" Hello you invited to my dinner \" +friends [0])\n",
        "print(f\" Hello you invited to my dinner \" + friends [1] )\n",
        "print(friends)"
      ],
      "metadata": {
        "colab": {
          "base_uri": "https://localhost:8080/"
        },
        "outputId": "cf5af7a8-69af-448b-f515-d3e0d916ec35",
        "id": "jRsL0OZ9hT2Q"
      },
      "execution_count": 28,
      "outputs": [
        {
          "output_type": "stream",
          "name": "stdout",
          "text": [
            " Hello you invited to my dinner Adam\n",
            " Hello you invited to my dinner Evans\n",
            " Hello you invited to my dinner kelvin\n",
            "kelvin cant make it \n",
            "['Adam', 'Evans']\n",
            " Hello you invited to my dinner Adam\n",
            " Hello you invited to my dinner Evans\n",
            "['Adam', 'Evans']\n"
          ]
        }
      ]
    },
    {
      "cell_type": "code",
      "source": [
        "# TIY 3-6\n",
        "friends = ['Adam','Evans', ]\n",
        "print(f'Hello {friends[0]} and {friends[1]}, I found a bigger table.')\n",
        "friends.insert(0, \"Dares\")\n",
        "friends.insert(2, \"Dilling\")\n",
        "friends.append('joel')\n",
        "print(friends)\n",
        "print(f\"Hello I found a bigger table\"+friends [0])\n",
        "print(f\"Hello I found a bigger table \" +friends [1])\n",
        "print(f\"Hello I found a bigger table \" +friends [2])\n",
        "print(f\"Hello I found a bigger table \" +friends [3])\n",
        "print(f\"Hello I found a bigger table \" +friends [4])\n",
        "\n"
      ],
      "metadata": {
        "colab": {
          "base_uri": "https://localhost:8080/"
        },
        "id": "VsvfckmWjkgF",
        "outputId": "c26b28d1-56fb-4414-cc11-03e30b0eb3ed"
      },
      "execution_count": 34,
      "outputs": [
        {
          "output_type": "stream",
          "name": "stdout",
          "text": [
            "Hello Adam and Evans, I found a bigger table.\n",
            "['Dares', 'Adam', 'Dilling', 'Evans', 'joel']\n",
            "Hello I found a bigger tableDares\n",
            "Hello I found a bigger table Adam\n",
            "Hello I found a bigger table Dilling\n",
            "Hello I found a bigger table Evans\n",
            "Hello I found a bigger table joel\n"
          ]
        }
      ]
    },
    {
      "cell_type": "code",
      "source": [
        "# TIY 3-7\n",
        "friends = ['Dares', 'Adam', 'Dilling', 'Evans', 'joel']\n"
      ],
      "metadata": {
        "id": "_KnTP1jGpOWw"
      },
      "execution_count": null,
      "outputs": []
    },
    {
      "cell_type": "code",
      "source": [
        "# TIY 3-6\n",
        "friends = ['Adam','Evans', ]\n",
        "print(f'Hello {friends[0]} and {friends[1]}, I found a bigger table.')\n",
        "friends.insert(0, \"Dares\")\n",
        "friends.insert(2, \"Dilling\")\n",
        "friends.append('joel')\n",
        "print(friends)\n",
        "print(f\"Hello I found a bigger table\"+friends [0])\n",
        "print(f\"Hello I found a bigger table \" +friends [1])\n",
        "print(f\"Hello I found a bigger table \" +friends [2])\n",
        "print(f\"Hello I found a bigger table \" +friends [3])\n",
        "print(f\"Hello I found a bigger table \" +friends [4])\n",
        "\n"
      ],
      "metadata": {
        "colab": {
          "base_uri": "https://localhost:8080/"
        },
        "outputId": "c26b28d1-56fb-4414-cc11-03e30b0eb3ed",
        "id": "5EKTFRnxpxt8"
      },
      "execution_count": null,
      "outputs": [
        {
          "output_type": "stream",
          "name": "stdout",
          "text": [
            "Hello Adam and Evans, I found a bigger table.\n",
            "['Dares', 'Adam', 'Dilling', 'Evans', 'joel']\n",
            "Hello I found a bigger tableDares\n",
            "Hello I found a bigger table Adam\n",
            "Hello I found a bigger table Dilling\n",
            "Hello I found a bigger table Evans\n",
            "Hello I found a bigger table joel\n"
          ]
        }
      ]
    },
    {
      "cell_type": "code",
      "source": [
        "# TIY 3-6\n",
        "friends = ['Adam','Evans', ]\n",
        "print(f'Hello {friends[0]} and {friends[1]}, I found a bigger table.')\n",
        "friends.insert(0, \"Dares\")\n",
        "friends.insert(2, \"Dilling\")\n",
        "friends.append('joel')\n",
        "print(friends)\n",
        "print(f\"Hello I found a bigger table\"+friends [0])\n",
        "print(f\"Hello I found a bigger table \" +friends [1])\n",
        "print(f\"Hello I found a bigger table \" +friends [2])\n",
        "print(f\"Hello I found a bigger table \" +friends [3])\n",
        "print(f\"Hello I found a bigger table \" +friends [4])\n",
        "\n"
      ],
      "metadata": {
        "colab": {
          "base_uri": "https://localhost:8080/"
        },
        "outputId": "c26b28d1-56fb-4414-cc11-03e30b0eb3ed",
        "id": "3FUJQ0mIpznl"
      },
      "execution_count": null,
      "outputs": [
        {
          "output_type": "stream",
          "name": "stdout",
          "text": [
            "Hello Adam and Evans, I found a bigger table.\n",
            "['Dares', 'Adam', 'Dilling', 'Evans', 'joel']\n",
            "Hello I found a bigger tableDares\n",
            "Hello I found a bigger table Adam\n",
            "Hello I found a bigger table Dilling\n",
            "Hello I found a bigger table Evans\n",
            "Hello I found a bigger table joel\n"
          ]
        }
      ]
    },
    {
      "cell_type": "code",
      "source": [
        "# TIY 3-7\n",
        "friends = ['Dares', 'Adam', 'Dilling', 'Evans', 'joel']\n",
        "print(friends)\n",
        "popped_friends_one = friends.pop()\n",
        "popped_friends_two = friends.pop(3)\n",
        "popped_friends_three =friends.pop(0)\n",
        "print(popped_friends_one)\n",
        "print(popped_friends_two)\n",
        "print(popped_friends_three)\n",
        "print(f'sorry friends only two people can come to the dinner')\n",
        "print(friends)\n",
        "del friends[0]\n",
        "del friends[0]\n",
        "print(friends)"
      ],
      "metadata": {
        "colab": {
          "base_uri": "https://localhost:8080/"
        },
        "outputId": "57792047-4526-4d34-fb56-268fa90966aa",
        "id": "q-Oj-YWep0BE"
      },
      "execution_count": 41,
      "outputs": [
        {
          "output_type": "stream",
          "name": "stdout",
          "text": [
            "['Dares', 'Adam', 'Dilling', 'Evans', 'joel']\n",
            "joel\n",
            "Evans\n",
            "Dares\n",
            "sorry friends only two people can come to the dinner\n",
            "['Adam', 'Dilling']\n",
            "[]\n"
          ]
        }
      ]
    },
    {
      "cell_type": "markdown",
      "source": [],
      "metadata": {
        "id": "PeR-022hkWL_"
      }
    },
    {
      "cell_type": "code",
      "source": [
        "# TIY 3-8\n",
        "vacation = ['ghana', 'nigeria', 'dubai', 'puerto rico', 'Dominican Republic']\n",
        "print(vacation)\n",
        "print(sorted(vacation))\n",
        "print(vacation)\n",
        "print(vacation.sort(reverse=True))\n",
        "print(vacation)\n",
        "vacation.reverse()\n",
        "print(vacation)\n",
        "vacation.reverse\n",
        "print(sorted(vacation))\n",
        "print(Vacation.sort(reverse=True))\n"
      ],
      "metadata": {
        "colab": {
          "base_uri": "https://localhost:8080/"
        },
        "id": "CxprA-9HtMT6",
        "outputId": "80fef80e-c9fb-4fed-ef2c-1fb0522c3cc7"
      },
      "execution_count": 45,
      "outputs": [
        {
          "output_type": "stream",
          "name": "stdout",
          "text": [
            "['ghana', 'nigeria', 'dubai', 'puerto rico', 'Dominican Republic']\n",
            "['Dominican Republic', 'dubai', 'ghana', 'nigeria', 'puerto rico']\n",
            "['ghana', 'nigeria', 'dubai', 'puerto rico', 'Dominican Republic']\n",
            "None\n",
            "['puerto rico', 'nigeria', 'ghana', 'dubai', 'Dominican Republic']\n",
            "['Dominican Republic', 'dubai', 'ghana', 'nigeria', 'puerto rico']\n",
            "['Dominican Republic', 'dubai', 'ghana', 'nigeria', 'puerto rico']\n",
            "None\n"
          ]
        }
      ]
    },
    {
      "cell_type": "code",
      "source": [
        "# TIY 3-9\n",
        "friends = ['Adam', 'Dilling']\n",
        "len(friends)"
      ],
      "metadata": {
        "colab": {
          "base_uri": "https://localhost:8080/"
        },
        "id": "Ss4vsuS8wBLf",
        "outputId": "3bbf150d-2c68-4249-a7d0-f0468a74b39a"
      },
      "execution_count": 47,
      "outputs": [
        {
          "output_type": "execute_result",
          "data": {
            "text/plain": [
              "2"
            ]
          },
          "metadata": {},
          "execution_count": 47
        }
      ]
    },
    {
      "cell_type": "code",
      "source": [
        "# TIY 3-10\n",
        "language = ['twi','hausa','french', 'spanish']\n",
        "print(language[0])\n",
        "language.append('chinese')\n",
        "print(language)\n",
        "language.insert(0, 'chinese')\n",
        "print(language)\n",
        "del language[0]\n",
        "print(language)\n",
        "popped_language = language.pop()\n",
        "print(language)\n",
        "print(popped_language)\n",
        "print(language )\n",
        "language.remove('spanish')\n",
        "print(language)\n",
        "language.sort()\n",
        "print(language)\n",
        "language.reverse()\n",
        "print(language)\n",
        "len(language )\n"
      ],
      "metadata": {
        "colab": {
          "base_uri": "https://localhost:8080/"
        },
        "id": "2qBL4CPBwuMQ",
        "outputId": "363e3d53-a648-404d-9e30-c71c054dcc54"
      },
      "execution_count": 48,
      "outputs": [
        {
          "output_type": "stream",
          "name": "stdout",
          "text": [
            "twi\n",
            "['twi', 'hausa', 'french', 'spanish', 'chinese']\n",
            "['chinese', 'twi', 'hausa', 'french', 'spanish', 'chinese']\n",
            "['twi', 'hausa', 'french', 'spanish', 'chinese']\n",
            "['twi', 'hausa', 'french', 'spanish']\n",
            "chinese\n",
            "['twi', 'hausa', 'french', 'spanish']\n",
            "['twi', 'hausa', 'french']\n",
            "['french', 'hausa', 'twi']\n",
            "['twi', 'hausa', 'french']\n"
          ]
        },
        {
          "output_type": "execute_result",
          "data": {
            "text/plain": [
              "3"
            ]
          },
          "metadata": {},
          "execution_count": 48
        }
      ]
    },
    {
      "cell_type": "code",
      "source": [
        "#TIY 3-11\n",
        "Language = ['twi','hausa','french', 'spanish']\n",
        "print(language(6))"
      ],
      "metadata": {
        "colab": {
          "base_uri": "https://localhost:8080/",
          "height": 108
        },
        "id": "4pGcu5-Wznix",
        "outputId": "4760b973-a96f-4b5f-a7ea-fb60e931f25a"
      },
      "execution_count": 49,
      "outputs": [
        {
          "output_type": "error",
          "ename": "SyntaxError",
          "evalue": "invalid syntax (<ipython-input-49-c28f1c483419>, line 1)",
          "traceback": [
            "\u001b[0;36m  File \u001b[0;32m\"<ipython-input-49-c28f1c483419>\"\u001b[0;36m, line \u001b[0;32m1\u001b[0m\n\u001b[0;31m    TIY 3-10\u001b[0m\n\u001b[0m        ^\u001b[0m\n\u001b[0;31mSyntaxError\u001b[0m\u001b[0;31m:\u001b[0m invalid syntax\n"
          ]
        }
      ]
    },
    {
      "cell_type": "code",
      "source": [
        "#TIY 3-11\n",
        "Language = ['twi','hausa','french', 'spanish']\n",
        "print(Language[3])"
      ],
      "metadata": {
        "colab": {
          "base_uri": "https://localhost:8080/"
        },
        "id": "CoiyGn0W0T_3",
        "outputId": "b5920a13-a79f-4e6a-97c4-fefc7a0af4e8"
      },
      "execution_count": 54,
      "outputs": [
        {
          "output_type": "stream",
          "name": "stdout",
          "text": [
            "spanish\n"
          ]
        }
      ]
    }
  ]
}